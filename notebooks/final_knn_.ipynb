{
 "cells": [
  {
   "cell_type": "code",
   "execution_count": 1,
   "metadata": {
    "ExecuteTime": {
     "end_time": "2020-11-27T18:13:23.790510Z",
     "start_time": "2020-11-27T18:13:21.001422Z"
    }
   },
   "outputs": [],
   "source": [
    "# imports\n",
    "import pickle\n",
    "import numpy as np\n",
    "import pandas as pd\n",
    "from sklearn.neighbors import KNeighborsRegressor\n",
    "from sklearn.model_selection import train_test_split"
   ]
  },
  {
   "cell_type": "code",
   "execution_count": 2,
   "metadata": {
    "ExecuteTime": {
     "end_time": "2020-11-27T18:13:25.279338Z",
     "start_time": "2020-11-27T18:13:23.793590Z"
    }
   },
   "outputs": [],
   "source": [
    "# load filtered df\n",
    "# ???\n",
    "# load final dataset\n",
    "df = pd.read_csv('../raw_data/full_dataset.csv')"
   ]
  },
  {
   "cell_type": "code",
   "execution_count": 3,
   "metadata": {
    "ExecuteTime": {
     "end_time": "2020-11-27T18:13:25.302284Z",
     "start_time": "2020-11-27T18:13:25.290697Z"
    }
   },
   "outputs": [],
   "source": [
    "# # explore data\n",
    "# df.describe()"
   ]
  },
  {
   "cell_type": "code",
   "execution_count": 4,
   "metadata": {
    "ExecuteTime": {
     "end_time": "2020-11-27T18:13:25.338032Z",
     "start_time": "2020-11-27T18:13:25.307610Z"
    }
   },
   "outputs": [],
   "source": [
    "# functionize seeding & feature selection\n",
    "def get_seed_features(df):\n",
    "    '''Get random seed track & features'''\n",
    "    seed = df.sample()\n",
    "    tempo = seed['scaled_tempo'].iat[0] \n",
    "    loudness = seed['scaled_loudness'].iat[0]\n",
    "    da = seed['danceability'].iat[0]\n",
    "    energy = seed['energy'].iat[0]\n",
    "#     year = target['scaled_year'].iat[0]\n",
    "#     popularity = target['popularity_binned'].iat[0]\n",
    "    return tempo, loudness, da, energy #, popularity"
   ]
  },
  {
   "cell_type": "code",
   "execution_count": 5,
   "metadata": {
    "ExecuteTime": {
     "end_time": "2020-11-27T18:13:25.361461Z",
     "start_time": "2020-11-27T18:13:25.343364Z"
    }
   },
   "outputs": [],
   "source": [
    "# functionize trainig\n",
    "def train_knn(df):\n",
    "    '''Train the model'''\n",
    "    features_names = ['scaled_tempo', 'scaled_loudness', 'danceability', 'energy'] # 'scaled_year', 'popularity_binned'\n",
    "    X = df[features_names]\n",
    "    y = df['track_id']\n",
    "    model = KNeighborsRegressor(algorithm='kd_tree', n_jobs=-1).fit(X, y)\n",
    "    return model"
   ]
  },
  {
   "cell_type": "code",
   "execution_count": 6,
   "metadata": {
    "ExecuteTime": {
     "end_time": "2020-11-27T18:13:25.818824Z",
     "start_time": "2020-11-27T18:13:25.366415Z"
    }
   },
   "outputs": [],
   "source": [
    "# train model\n",
    "model = train_knn(df)\n",
    "# pickle model\n",
    "with open(\"../peak/knn_trained.pkl\", \"wb\") as file:\n",
    "    pickle.dump(model, file)   "
   ]
  },
  {
   "cell_type": "code",
   "execution_count": 7,
   "metadata": {
    "ExecuteTime": {
     "end_time": "2020-11-27T18:13:25.876919Z",
     "start_time": "2020-11-27T18:13:25.826783Z"
    }
   },
   "outputs": [],
   "source": [
    "# get seed features\n",
    "tempo, loudness, da, energy = get_seed_features(df)"
   ]
  },
  {
   "cell_type": "code",
   "execution_count": 8,
   "metadata": {
    "ExecuteTime": {
     "end_time": "2020-11-27T18:13:26.095598Z",
     "start_time": "2020-11-27T18:13:25.926872Z"
    }
   },
   "outputs": [],
   "source": [
    "# load trained model\n",
    "knn_trained = pickle.load(open(\"../peak/knn_trained.pkl\",\"rb\")) #file is in peak/peak"
   ]
  },
  {
   "cell_type": "code",
   "execution_count": 9,
   "metadata": {
    "ExecuteTime": {
     "end_time": "2020-11-27T18:13:26.127415Z",
     "start_time": "2020-11-27T18:13:26.108251Z"
    }
   },
   "outputs": [],
   "source": [
    "def get_k_dist_ind(knn_trained, tempo, loudness, da, energy):\n",
    "    '''Get model output: distances & indices'''\n",
    "    # set output & k\n",
    "    knn_out, k = [], 100\n",
    "    # get trained model output for k: distances & indices\n",
    "    knn_out = knn_trained.kneighbors([[tempo, loudness, da, energy]], n_neighbors=k)\n",
    "    return knn_out"
   ]
  },
  {
   "cell_type": "code",
   "execution_count": 11,
   "metadata": {
    "ExecuteTime": {
     "end_time": "2020-11-27T18:13:53.492562Z",
     "start_time": "2020-11-27T18:13:53.375364Z"
    }
   },
   "outputs": [],
   "source": [
    "# get output: distances & indices\n",
    "knn_out = get_k_dist_ind(knn_trained,tempo, loudness, da, energy)\n",
    "# get indices\n",
    "ind = knn_out[1][0].tolist()"
   ]
  },
  {
   "cell_type": "code",
   "execution_count": null,
   "metadata": {
    "ExecuteTime": {
     "end_time": "2020-11-27T18:13:26.635332Z",
     "start_time": "2020-11-27T18:13:21.060Z"
    }
   },
   "outputs": [],
   "source": [
    "# k=100 recommendations df\n",
    "recs = df.iloc[ind] \n",
    "recs"
   ]
  }
 ],
 "metadata": {
  "hide_input": false,
  "kernelspec": {
   "display_name": "Python 3",
   "language": "python",
   "name": "python3"
  },
  "language_info": {
   "codemirror_mode": {
    "name": "ipython",
    "version": 3
   },
   "file_extension": ".py",
   "mimetype": "text/x-python",
   "name": "python",
   "nbconvert_exporter": "python",
   "pygments_lexer": "ipython3",
   "version": "3.7.7"
  },
  "toc": {
   "base_numbering": 1,
   "nav_menu": {},
   "number_sections": true,
   "sideBar": true,
   "skip_h1_title": false,
   "title_cell": "Table of Contents",
   "title_sidebar": "Contents",
   "toc_cell": false,
   "toc_position": {},
   "toc_section_display": true,
   "toc_window_display": true
  },
  "varInspector": {
   "cols": {
    "lenName": 16,
    "lenType": 16,
    "lenVar": 40
   },
   "kernels_config": {
    "python": {
     "delete_cmd_postfix": "",
     "delete_cmd_prefix": "del ",
     "library": "var_list.py",
     "varRefreshCmd": "print(var_dic_list())"
    },
    "r": {
     "delete_cmd_postfix": ") ",
     "delete_cmd_prefix": "rm(",
     "library": "var_list.r",
     "varRefreshCmd": "cat(var_dic_list()) "
    }
   },
   "types_to_exclude": [
    "module",
    "function",
    "builtin_function_or_method",
    "instance",
    "_Feature"
   ],
   "window_display": false
  }
 },
 "nbformat": 4,
 "nbformat_minor": 4
}
